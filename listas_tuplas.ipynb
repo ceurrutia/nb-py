{
 "cells": [
  {
   "cell_type": "code",
   "execution_count": 8,
   "metadata": {},
   "outputs": [
    {
     "name": "stdout",
     "output_type": "stream",
     "text": [
      "El nombre removido es:  Lujardo\n",
      "[1, 2, 7, [2, 5, 8], 'Fabiana', 'Montaraz', 'Enmu', 'Carlos Finlay', 'Julio', 'Carlos']\n"
     ]
    }
   ],
   "source": [
    "nombres = [1, 2, 7, [2,5,8], 'Fabiana', 'Montaraz', 'Enmu', 'Carlos Finlay']\n",
    "\n",
    "nombres.append('Julio')\n",
    "nombres.append('Carlos')\n",
    "nombres.append('Loiro')\n",
    "nombres.append('Lujardo')\n",
    "print(\"El nombre removido es: \", nombres.pop())\n",
    "\n",
    "nombres.pop()\n",
    "print(nombres)\n",
    "\n",
    " "
   ]
  },
  {
   "cell_type": "code",
   "execution_count": 6,
   "metadata": {},
   "outputs": [
    {
     "name": "stdout",
     "output_type": "stream",
     "text": [
      "El elemento eliminado es:  ('Luis', 46)\n",
      "{'Jose': 20, 'Pedro': 35, 'Ramiro': 44}\n"
     ]
    }
   ],
   "source": [
    "lista:dict ={\n",
    "    'Jose' : 20,\n",
    "    'Pedro': 35,\n",
    "    'Ramiro': 44\n",
    "}\n",
    "\n",
    "lista['Luis' ] = 46\n",
    "lista['Minerva'] = 36\n",
    "lista.popitem()\n",
    "\n",
    "\n",
    "print(\"El elemento eliminado es: \", lista.popitem())\n",
    "print(lista)\n",
    "\n"
   ]
  }
 ],
 "metadata": {
  "kernelspec": {
   "display_name": "Python 3",
   "language": "python",
   "name": "python3"
  },
  "language_info": {
   "codemirror_mode": {
    "name": "ipython",
    "version": 3
   },
   "file_extension": ".py",
   "mimetype": "text/x-python",
   "name": "python",
   "nbconvert_exporter": "python",
   "pygments_lexer": "ipython3",
   "version": "3.11.3"
  },
  "orig_nbformat": 4
 },
 "nbformat": 4,
 "nbformat_minor": 2
}
