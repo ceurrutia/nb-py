{
 "cells": [
  {
   "cell_type": "markdown",
   "metadata": {},
   "source": [
    "Escribir una función que calcule el máximo común divisor entre dos números"
   ]
  },
  {
   "cell_type": "code",
   "execution_count": 3,
   "metadata": {},
   "outputs": [
    {
     "name": "stdout",
     "output_type": "stream",
     "text": [
      "45\n"
     ]
    }
   ],
   "source": [
    "def mcd(x, y):\n",
    "    if x < y:\n",
    "        return mcd(y, x)\n",
    "\n",
    "    while y != 0:\n",
    "        x, y = y, x % y\n",
    "\n",
    "    return x\n",
    "\n",
    "print(mcd(45, 90))\n"
   ]
  },
  {
   "cell_type": "markdown",
   "metadata": {},
   "source": [
    "Escribir una función que calcule el mínimo común múltiplo entre dos números"
   ]
  },
  {
   "cell_type": "code",
   "execution_count": 12,
   "metadata": {},
   "outputs": [
    {
     "name": "stdout",
     "output_type": "stream",
     "text": [
      "544\n",
      "2520\n"
     ]
    }
   ],
   "source": [
    "def mcm(num1, num2):\n",
    "    num3 = max(num1, num2)\n",
    "    \n",
    "    while True:\n",
    "        if (num3 % num1  == 0) and (num3 % num2 == 0):\n",
    "            return num3\n",
    "        num3 += 1 #evalua el siguiente numero entero\n",
    "\n",
    "print(mcm(32,68))\n",
    "print(mcm(56,90))"
   ]
  },
  {
   "cell_type": "markdown",
   "metadata": {},
   "source": [
    "Escribir un programa que reciba una cadena de caracteres y devuelva un diccionario con\n",
    "cada palabra que contiene y la cantidad de veces que aparece (frecuencia)."
   ]
  },
  {
   "cell_type": "code",
   "execution_count": 61,
   "metadata": {},
   "outputs": [
    {
     "name": "stdout",
     "output_type": "stream",
     "text": [
      "{'Tanjiro:': 1, 'Vive': 1, 'con': 1, 'orgullo.': 1, 'Si': 1, 'te': 1, 'vence': 1, 'tu': 2, 'debilidad,': 1, 'calienta': 1, 'corazón,': 1, 'aprieta': 1, 'los': 1, 'dientes': 1, 'y': 1, 'sigue': 1, 'adelante.': 1, 'Dile': 1, 'a': 1, 'mi': 1, 'padre': 1, 'que': 1, 'cuide': 1, 'su': 1, 'salud': 1}\n",
      "('tu', 2)\n"
     ]
    }
   ],
   "source": [
    "def cont_palabras(texto):\n",
    "    '''\n",
    "    Funcion: Contar el Número de veces que aparece cada palabra en el texto.\n",
    "    Parámetros:\n",
    "        text: Es la cadena de caracteres.\n",
    "    Retorna: \n",
    "        Un diccionario con pares palabra:frecuencia.\n",
    "    '''\n",
    "    texto = texto.split()\n",
    "    palabras = {}\n",
    "    for i in texto:\n",
    "        if i in palabras:\n",
    "            palabras[i] += 1\n",
    "        else:\n",
    "            palabras[i] = 1\n",
    "    return palabras\n",
    "\n",
    "def mas_repetidas(palabras):\n",
    "    max_palabras = ''\n",
    "    max_freq = 0\n",
    "    for palabras, freq in palabras.items():\n",
    "        if freq > max_freq:\n",
    "            max_palabras = palabras\n",
    "            max_freq = freq\n",
    "    return max_palabras, max_freq\n",
    "\n",
    "texto = 'Tanjiro: Vive con orgullo. Si te vence tu debilidad, calienta tu corazón, aprieta los dientes y sigue adelante. Dile a mi padre que cuide su salud'\n",
    "\n",
    "print(cont_palabras(texto))\n",
    "print(mas_repetidas(cont_palabras(texto)))"
   ]
  },
  {
   "cell_type": "markdown",
   "metadata": {},
   "source": [
    "Sabiendo que ValueError es la excepción que se lanza cuando no podemos convertir una\n",
    "cadena de texto en su valor numérico, escriba una función get_int() que lea un valor entero\n",
    "del usuario y lo devuelva, iterando mientras el valor no sea correcto. Intente resolver el\n",
    "ejercicio tanto de manera iterativa como recursiva."
   ]
  },
  {
   "cell_type": "code",
   "execution_count": 16,
   "metadata": {},
   "outputs": [
    {
     "ename": "TypeError",
     "evalue": "catching classes that do not inherit from BaseException is not allowed",
     "output_type": "error",
     "traceback": [
      "\u001b[1;31m---------------------------------------------------------------------------\u001b[0m",
      "\u001b[1;31mValueError\u001b[0m                                Traceback (most recent call last)",
      "Cell \u001b[1;32mIn[16], line 3\u001b[0m, in \u001b[0;36mget_int\u001b[1;34m(num)\u001b[0m\n\u001b[0;32m      2\u001b[0m \u001b[39mtry\u001b[39;00m:\n\u001b[1;32m----> 3\u001b[0m     \u001b[39mint\u001b[39;49m(num)\n\u001b[0;32m      4\u001b[0m     \u001b[39mprint\u001b[39m(\u001b[39m\"\u001b[39m\u001b[39mSe pudo convertir\u001b[39m\u001b[39m\"\u001b[39m)\n",
      "\u001b[1;31mValueError\u001b[0m: invalid literal for int() with base 10: 'ceci'",
      "\nDuring handling of the above exception, another exception occurred:\n",
      "\u001b[1;31mTypeError\u001b[0m                                 Traceback (most recent call last)",
      "Cell \u001b[1;32mIn[16], line 11\u001b[0m\n\u001b[0;32m      8\u001b[0m         get_int(num)\n\u001b[0;32m     10\u001b[0m num \u001b[39m=\u001b[39m \u001b[39minput\u001b[39m(\u001b[39m\"\u001b[39m\u001b[39mIngrese un numero entero: \u001b[39m\u001b[39m\"\u001b[39m)\n\u001b[1;32m---> 11\u001b[0m \u001b[39mprint\u001b[39m(get_int(num))\n",
      "Cell \u001b[1;32mIn[16], line 5\u001b[0m, in \u001b[0;36mget_int\u001b[1;34m(num)\u001b[0m\n\u001b[0;32m      3\u001b[0m     \u001b[39mint\u001b[39m(num)\n\u001b[0;32m      4\u001b[0m     \u001b[39mprint\u001b[39m(\u001b[39m\"\u001b[39m\u001b[39mSe pudo convertir\u001b[39m\u001b[39m\"\u001b[39m)\n\u001b[1;32m----> 5\u001b[0m \u001b[39mexcept\u001b[39;00m \u001b[39mValueError\u001b[39;00m():\n\u001b[0;32m      6\u001b[0m     \u001b[39mprint\u001b[39m(\u001b[39m\"\u001b[39m\u001b[39mDebe ser un valor numerico\u001b[39m\u001b[39m\"\u001b[39m)\n\u001b[0;32m      7\u001b[0m     num \u001b[39m=\u001b[39m \u001b[39minput\u001b[39m(\u001b[39m\"\u001b[39m\u001b[39mIngrese un numero entero: \u001b[39m\u001b[39m\"\u001b[39m)\n",
      "\u001b[1;31mTypeError\u001b[0m: catching classes that do not inherit from BaseException is not allowed"
     ]
    }
   ],
   "source": [
    "def get_int(num):\n",
    "    try:\n",
    "        int(num)\n",
    "        print(\"Se pudo convertir\")\n",
    "    except ValueError():\n",
    "        print(\"Debe ser un valor numerico\")\n",
    "        num = input(\"Ingrese un numero entero: \")\n",
    "        get_int(num)\n",
    "        \n",
    "num = input(\"Ingrese un numero entero: \")\n",
    "print(get_int(num))\n",
    "\n",
    "        "
   ]
  },
  {
   "cell_type": "markdown",
   "metadata": {},
   "source": [
    "Crear una clase llamada Persona. Sus atributos son: nombre, edad y DNI. Construya los\n",
    "siguientes métodos para la clase:\n",
    " Un constructor, donde los datos pueden estar vacíos.\n",
    " Los setters y getters para cada uno de los atributos. Hay que validar las entradas de\n",
    "datos.\n",
    " mostrar(): Muestra los datos de la persona.\n",
    " Es_mayor_de_edad(): Devuelve un valor lógico indicando si es mayor de edad"
   ]
  },
  {
   "cell_type": "code",
   "execution_count": 27,
   "metadata": {},
   "outputs": [
    {
     "name": "stdout",
     "output_type": "stream",
     "text": [
      "Longitud de dni no válida\n",
      "Eres mayor de edad\n"
     ]
    },
    {
     "ename": "TypeError",
     "evalue": "Es_mayor_de_edad() takes 0 positional arguments but 2 were given",
     "output_type": "error",
     "traceback": [
      "\u001b[1;31m---------------------------------------------------------------------------\u001b[0m",
      "\u001b[1;31mTypeError\u001b[0m                                 Traceback (most recent call last)",
      "Cell \u001b[1;32mIn[27], line 56\u001b[0m\n\u001b[0;32m     53\u001b[0m \u001b[39melse\u001b[39;00m:\n\u001b[0;32m     54\u001b[0m     \u001b[39mprint\u001b[39m(\u001b[39m\"\u001b[39m\u001b[39mAcceso no permitido, eres menor de edad\u001b[39m\u001b[39m\"\u001b[39m)\n\u001b[1;32m---> 56\u001b[0m \u001b[39mprint\u001b[39m(Es_mayor_de_edad(set_edad, \u001b[39m45\u001b[39;49m))\n",
      "\u001b[1;31mTypeError\u001b[0m: Es_mayor_de_edad() takes 0 positional arguments but 2 were given"
     ]
    }
   ],
   "source": [
    "class Persona():\n",
    "    def __init__(self, nombre, edad, dni):\n",
    "        \n",
    "        self.nombre = nombre\n",
    "        self.edad = edad\n",
    "        self.dni = dni\n",
    "        \n",
    "        \n",
    "    def __str__(self):\n",
    "        return f'{self.nombre}, {self.edad}, {self.dni}'\n",
    "\n",
    "#getters\n",
    "       \n",
    "def get_nombre(self):\n",
    "    return self.nombre\n",
    "\n",
    "def get_edad(self):\n",
    "    return self.edad\n",
    "\n",
    "def get_dni(self):\n",
    "    return self.dni\n",
    "\n",
    "#setters\n",
    "\n",
    "def set_nombre(self, nombre):\n",
    "      self.nombre = nombre\n",
    "      \n",
    "def set_nombre(self, edad):\n",
    "      self.nombre = edad\n",
    "      \n",
    "def set_dni(self, dni):\n",
    "      self.nombre = dni\n",
    "      \n",
    "#Calcular si es mayor de edad\n",
    "\n",
    "def Es_mayor_de_edad():\n",
    "    return get_edad\n",
    "\n",
    "#Bloque principal\n",
    "#Ingreso de datos\n",
    "\n",
    "set_nombre:str = input('Ingrese su nombre: ')\n",
    "\n",
    "set_dni:int = input('Ingrese su dni: ')\n",
    "if set_dni != 8:\n",
    "    print(\"Longitud de dni no válida\")\n",
    "else:\n",
    "    print(\"Acceso válido\")\n",
    "\n",
    "set_edad = int(input('Ingrese su edad: '))  \n",
    "if set_edad >= 18:\n",
    "    print(\"Eres mayor de edad\")\n",
    "else:\n",
    "    print(\"Acceso no permitido, eres menor de edad\")\n",
    "    \n",
    "print(Es_mayor_de_edad(set_edad, 45))\n",
    "\n",
    "\n"
   ]
  },
  {
   "cell_type": "markdown",
   "metadata": {},
   "source": [
    "Crea una clase llamada Cuenta que tendrá los siguientes atributos: titular (que es una\n",
    "persona) y cantidad (puede tener decimales). El titular será obligatorio y la cantidad es\n",
    "opcional. Crear los siguientes métodos para la clase:\n",
    " Un constructor, donde los datos pueden estar vacíos.\n",
    " Los setters y getters para cada uno de los atributos. El atributo no se puede modificar\n",
    "directamente, sólo ingresando o retirando dinero.\n",
    " mostrar(): Muestra los datos de la cuenta.\n",
    " ingresar(cantidad): se ingresa una cantidad a la cuenta, si la cantidad introducida es\n",
    "negativa, no se hará nada.\n",
    " retirar(cantidad): se retira una cantidad a la cuenta. La cuenta puede estar en números\n",
    "rojos."
   ]
  },
  {
   "cell_type": "code",
   "execution_count": 12,
   "metadata": {},
   "outputs": [
    {
     "name": "stdout",
     "output_type": "stream",
     "text": [
      "Cecilia Urrutia\n",
      "None\n",
      "None\n",
      "7800\n",
      "Maria Pabla\n"
     ]
    }
   ],
   "source": [
    "class Cuenta():\n",
    "        #inicializo clase\n",
    "        def __init__(self, titular, cantidad):\n",
    "            self.titular = titular\n",
    "            self.cantidad = cantidad\n",
    "         \n",
    "\n",
    "        #Invoco metodo get \n",
    "        def get_cantidad(self):\n",
    "              return self.cantidad\n",
    "        \n",
    "        def get_titular(self):\n",
    "              return self.titular\n",
    "        \n",
    "        #Metodo\n",
    "        def __str__(self):\n",
    "            return f'{self.titular},{self.cantidad}'\n",
    "        \n",
    "        #Invoco metodo set (modificar propiedades de una clase)\n",
    "\n",
    "        def set_titular(self, titular):\n",
    "              self.titular = titular\n",
    "             \n",
    "       \n",
    "        def set_cantidad(self, cantidad):\n",
    "              self.cantidad = cantidad\n",
    "\n",
    "cuenta1 = Cuenta(\"Cecilia Urrutia\", 3000) \n",
    "\n",
    "print(cuenta1.get_titular())\n",
    "print(cuenta1.set_titular(\"Maria Pabla\"))\n",
    "\n",
    "print(cuenta1.set_cantidad(7800))\n",
    "print(cuenta1.get_cantidad())\n",
    "\n",
    "print(cuenta1.get_titular())\n",
    "\n",
    "      \n"
   ]
  },
  {
   "cell_type": "markdown",
   "metadata": {},
   "source": [
    "Vamos a definir ahora una “Cuenta Joven”, para ello vamos a crear una nueva clase\n",
    "CuantaJoven que deriva de la clase creada en el punto 7. Cuando se crea esta nueva clase,\n",
    "además del titular y la cantidad se debe guardar una bonificación que estará expresada en\n",
    "tanto por ciento. Crear los siguientes métodos para la clase:\n",
    " Un constructor.\n",
    " Los setters y getters para el nuevo atributo.\n",
    " En esta ocasión los titulares de este tipo de cuenta tienen que ser mayor de edad, por lo\n",
    "tanto hay que crear un método es_titular_valido() que devuelve verdadero si el titular es\n",
    "mayor de edad pero menor de 25 años y falso en caso contrario.\n",
    " Además, la retirada de dinero sólo se podrá hacer si el titular es válido.\n",
    " El método mostrar() debe devolver el mensaje de “Cuenta Joven” y la bonificación de la\n",
    "cuenta."
   ]
  },
  {
   "cell_type": "code",
   "execution_count": 24,
   "metadata": {},
   "outputs": [
    {
     "name": "stdout",
     "output_type": "stream",
     "text": [
      "No eres beneficiario del programa Cuenta Joven\n"
     ]
    }
   ],
   "source": [
    "#Comienza porgrama tarjeta joven creanado objeto\n",
    "\n",
    "class CuentaJoven:\n",
    "    #inicializo contructor\n",
    "\tdef __init__(self, edad_titular, bonificacion):\n",
    "            self.edad_titular = edad_titular\n",
    "            self.bonificacion = bonificacion\n",
    "    \n",
    "#Programa cuenta\n",
    "\n",
    "edad_titular = int(input(\"Ingresa tu edad: \"))\n",
    "if edad_titular >= 18 and edad_titular <= 35:\n",
    "      print(\"Eres beneficiario de cuenta Joven\")\n",
    "else:\n",
    "      print(\"No eres beneficiario del programa Cuenta Joven\")\n",
    "\n",
    "bonificacion = True\n",
    "\n"
   ]
  }
 ],
 "metadata": {
  "kernelspec": {
   "display_name": "Python 3",
   "language": "python",
   "name": "python3"
  },
  "language_info": {
   "codemirror_mode": {
    "name": "ipython",
    "version": 3
   },
   "file_extension": ".py",
   "mimetype": "text/x-python",
   "name": "python",
   "nbconvert_exporter": "python",
   "pygments_lexer": "ipython3",
   "version": "3.11.3"
  },
  "orig_nbformat": 4
 },
 "nbformat": 4,
 "nbformat_minor": 2
}
