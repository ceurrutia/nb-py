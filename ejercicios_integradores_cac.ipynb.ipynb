{
 "cells": [
  {
   "cell_type": "markdown",
   "metadata": {},
   "source": [
    "Escribir una función que calcule el máximo común divisor entre dos números"
   ]
  },
  {
   "cell_type": "code",
   "execution_count": 3,
   "metadata": {},
   "outputs": [
    {
     "name": "stdout",
     "output_type": "stream",
     "text": [
      "45\n"
     ]
    }
   ],
   "source": [
    "def mcd(x, y):\n",
    "    if x < y:\n",
    "        return mcd(y, x)\n",
    "\n",
    "    while y != 0:\n",
    "        x, y = y, x % y\n",
    "\n",
    "    return x\n",
    "\n",
    "print(mcd(45, 90))\n"
   ]
  },
  {
   "cell_type": "markdown",
   "metadata": {},
   "source": [
    "Escribir una función que calcule el mínimo común múltiplo entre dos números"
   ]
  },
  {
   "cell_type": "code",
   "execution_count": 12,
   "metadata": {},
   "outputs": [
    {
     "name": "stdout",
     "output_type": "stream",
     "text": [
      "544\n",
      "2520\n"
     ]
    }
   ],
   "source": [
    "def mcm(num1, num2):\n",
    "    num3 = max(num1, num2)\n",
    "    \n",
    "    while True:\n",
    "        if (num3 % num1  == 0) and (num3 % num2 == 0):\n",
    "            return num3\n",
    "        num3 += 1 #evalua el siguiente numero entero\n",
    "\n",
    "print(mcm(32,68))\n",
    "print(mcm(56,90))"
   ]
  },
  {
   "cell_type": "markdown",
   "metadata": {},
   "source": [
    "Escribir un programa que reciba una cadena de caracteres y devuelva un diccionario con\n",
    "cada palabra que contiene y la cantidad de veces que aparece (frecuencia)."
   ]
  },
  {
   "cell_type": "code",
   "execution_count": 61,
   "metadata": {},
   "outputs": [
    {
     "name": "stdout",
     "output_type": "stream",
     "text": [
      "{'Tanjiro:': 1, 'Vive': 1, 'con': 1, 'orgullo.': 1, 'Si': 1, 'te': 1, 'vence': 1, 'tu': 2, 'debilidad,': 1, 'calienta': 1, 'corazón,': 1, 'aprieta': 1, 'los': 1, 'dientes': 1, 'y': 1, 'sigue': 1, 'adelante.': 1, 'Dile': 1, 'a': 1, 'mi': 1, 'padre': 1, 'que': 1, 'cuide': 1, 'su': 1, 'salud': 1}\n",
      "('tu', 2)\n"
     ]
    }
   ],
   "source": [
    "def cont_palabras(texto):\n",
    "    '''\n",
    "    Funcion: Contar el Número de veces que aparece cada palabra en el texto.\n",
    "    Parámetros:\n",
    "        text: Es la cadena de caracteres.\n",
    "    Retorna: \n",
    "        Un diccionario con pares palabra:frecuencia.\n",
    "    '''\n",
    "    texto = texto.split()\n",
    "    palabras = {}\n",
    "    for i in texto:\n",
    "        if i in palabras:\n",
    "            palabras[i] += 1\n",
    "        else:\n",
    "            palabras[i] = 1\n",
    "    return palabras\n",
    "\n",
    "def mas_repetidas(palabras):\n",
    "    max_palabras = ''\n",
    "    max_freq = 0\n",
    "    for palabras, freq in palabras.items():\n",
    "        if freq > max_freq:\n",
    "            max_palabras = palabras\n",
    "            max_freq = freq\n",
    "    return max_palabras, max_freq\n",
    "\n",
    "texto = 'Tanjiro: Vive con orgullo. Si te vence tu debilidad, calienta tu corazón, aprieta los dientes y sigue adelante. Dile a mi padre que cuide su salud'\n",
    "\n",
    "print(cont_palabras(texto))\n",
    "print(mas_repetidas(cont_palabras(texto)))"
   ]
  },
  {
   "cell_type": "markdown",
   "metadata": {},
   "source": [
    "Sabiendo que ValueError es la excepción que se lanza cuando no podemos convertir una\n",
    "cadena de texto en su valor numérico, escriba una función get_int() que lea un valor entero\n",
    "del usuario y lo devuelva, iterando mientras el valor no sea correcto. Intente resolver el\n",
    "ejercicio tanto de manera iterativa como recursiva."
   ]
  },
  {
   "cell_type": "code",
   "execution_count": 4,
   "metadata": {},
   "outputs": [
    {
     "name": "stdout",
     "output_type": "stream",
     "text": [
      "Ingresa un valor válido\n",
      "El valor entero ingresado es:  45\n"
     ]
    }
   ],
   "source": [
    "def get_int():\n",
    "    while True:\n",
    "        try:\n",
    "            ingreso_num = input(\"Ingresa un numero entero: \")\n",
    "            valor_entero = int(ingreso_num)\n",
    "            return valor_entero  \n",
    "        except ValueError:\n",
    "            print(\"Ingresa un valor válido\") \n",
    "        \n",
    "        \n",
    "resultado = get_int()\n",
    "print(\"El valor entero ingresado es: \", resultado)\n",
    "\n",
    "        "
   ]
  }
 ],
 "metadata": {
  "kernelspec": {
   "display_name": "Python 3",
   "language": "python",
   "name": "python3"
  },
  "language_info": {
   "codemirror_mode": {
    "name": "ipython",
    "version": 3
   },
   "file_extension": ".py",
   "mimetype": "text/x-python",
   "name": "python",
   "nbconvert_exporter": "python",
   "pygments_lexer": "ipython3",
   "version": "3.11.3"
  },
  "orig_nbformat": 4
 },
 "nbformat": 4,
 "nbformat_minor": 2
}
