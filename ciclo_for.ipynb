{
 "cells": [
  {
   "cell_type": "code",
   "execution_count": 7,
   "metadata": {},
   "outputs": [
    {
     "name": "stdout",
     "output_type": "stream",
     "text": [
      "1\n",
      "2\n",
      "3\n",
      "4\n",
      "['gato', 'perro', 'elefante', 'loro']\n",
      "['gato', 'perro', 'elefante', 'loro']\n",
      "['gato', 'perro', 'elefante', 'loro']\n",
      "['gato', 'perro', 'elefante', 'loro']\n"
     ]
    }
   ],
   "source": [
    "#ciclo for\n",
    "\n",
    "for i in range(1,5):\n",
    "    print(i)\n",
    "    \n",
    "animales:list = [\"gato\", \"perro\", \"elefante\"]\n",
    "animales.append(\"loro\")   \n",
    "for animal in animales:\n",
    "    print(animales)\n"
   ]
  },
  {
   "cell_type": "code",
   "execution_count": 8,
   "metadata": {},
   "outputs": [
    {
     "name": "stdout",
     "output_type": "stream",
     "text": [
      "[2, 4, 6]\n"
     ]
    }
   ],
   "source": [
    "#slice (inicio, parada y paso) metodo: indicamos primero donde inicia, donde termina \n",
    "# y de que numero saltea, por ejemplo de dos en dos, de tres en trs, por defecto es uno\n",
    "\n",
    "# Creamos una lista de ejemplo\n",
    "mi_lista = [0, 1, 2, 3, 4, 5, 6, 7, 8, 9]\n",
    "\n",
    "# Usando el método slice para obtener una rebanada de la lista\n",
    "mi_rebanada = slice(2, 7, 2)\n",
    "\n",
    "# Ahora, podemos usar la rebanada en la lista para obtener los elementos deseados\n",
    "resultado = mi_lista[mi_rebanada]\n",
    "\n",
    "# Imprimimos el resultado\n",
    "print(resultado)\n"
   ]
  },
  {
   "cell_type": "code",
   "execution_count": 17,
   "metadata": {},
   "outputs": [
    {
     "name": "stdout",
     "output_type": "stream",
     "text": [
      "Hoy es Lunes\n",
      "Hoy es Miércoles\n",
      "Hoy es Viernes\n",
      "Hoy es Domingo\n"
     ]
    }
   ],
   "source": [
    "#ciclo while hasta que se cumpla la condicion verdadera\n",
    "\n",
    "dia = 0    \n",
    "semana = ['Lunes', 'Martes', 'Miércoles', 'Jueves', 'Viernes', 'Sabado', 'Domingo']\n",
    "while dia < 7:\n",
    "   print(\"Hoy es \" + semana[dia])\n",
    "   dia += 2\n"
   ]
  },
  {
   "cell_type": "code",
   "execution_count": 10,
   "metadata": {},
   "outputs": [
    {
     "name": "stdout",
     "output_type": "stream",
     "text": [
      "El numero eliminado es:  4\n",
      "[2, 3, 'Maria']\n"
     ]
    }
   ],
   "source": [
    "milista = [2,3,4]\n",
    "    \n",
    "milista.append(5)\n",
    "milista.pop()\n",
    "\n",
    "print(\"El numero eliminado es: \", milista.pop())\n",
    "\n",
    "milista.append(\"Maria\")\n",
    "print(milista)"
   ]
  },
  {
   "cell_type": "code",
   "execution_count": 19,
   "metadata": {},
   "outputs": [
    {
     "name": "stdout",
     "output_type": "stream",
     "text": [
      "1\n",
      "2\n",
      "3\n",
      "4\n",
      "5\n"
     ]
    }
   ],
   "source": [
    "#ciclo while\n",
    "\n",
    "Mi_contador = 1\n",
    "while Mi_contador <= 5:\n",
    "    print(Mi_contador )\n",
    "    Mi_contador += 1\n",
    "    \n",
    "    "
   ]
  },
  {
   "cell_type": "code",
   "execution_count": 20,
   "metadata": {},
   "outputs": [
    {
     "name": "stdout",
     "output_type": "stream",
     "text": [
      "1\n",
      "4\n",
      "7\n",
      "10\n"
     ]
    }
   ],
   "source": [
    "#ciclo while\n",
    "\n",
    "contadora = 0\n",
    "while contadora <= 10:\n",
    "    print(contadora)\n",
    "    contadora +=3\n",
    "    "
   ]
  },
  {
   "cell_type": "markdown",
   "metadata": {},
   "source": [
    "IMPORTANTE: Ciclo while se utiliza para repetir un bloque de código mientras se cumpla una condición específica. Esto significa que el bloque de código dentro del bucle se ejecutará repetidamente hasta que la condición se evalúe como falsa. "
   ]
  },
  {
   "cell_type": "code",
   "execution_count": 33,
   "metadata": {},
   "outputs": [
    {
     "name": "stdout",
     "output_type": "stream",
     "text": [
      "0\n",
      "3\n",
      "6\n"
     ]
    }
   ],
   "source": [
    "\n",
    "contador_ipiki = 0\n",
    "while contador_ipiki <= 6:\n",
    "    print(contador_ipiki)\n",
    "    contador_ipiki +=3\n",
    "    "
   ]
  }
 ],
 "metadata": {
  "kernelspec": {
   "display_name": "Python 3",
   "language": "python",
   "name": "python3"
  },
  "language_info": {
   "codemirror_mode": {
    "name": "ipython",
    "version": 3
   },
   "file_extension": ".py",
   "mimetype": "text/x-python",
   "name": "python",
   "nbconvert_exporter": "python",
   "pygments_lexer": "ipython3",
   "version": "3.11.3"
  },
  "orig_nbformat": 4
 },
 "nbformat": 4,
 "nbformat_minor": 2
}
