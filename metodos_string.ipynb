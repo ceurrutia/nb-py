{
 "cells": [
  {
   "cell_type": "markdown",
   "metadata": {},
   "source": [
    "Metodos string"
   ]
  },
  {
   "cell_type": "code",
   "execution_count": null,
   "metadata": {},
   "outputs": [
    {
     "name": "stdout",
     "output_type": "stream",
     "text": [
      "Hola, Mundo\n"
     ]
    }
   ],
   "source": [
    "saludo = \"Hola, Mundo\"\n",
    "print(saludo)"
   ]
  },
  {
   "cell_type": "code",
   "execution_count": null,
   "metadata": {},
   "outputs": [
    {
     "data": {
      "text/plain": [
       "'Chau, mundo'"
      ]
     },
     "execution_count": 19,
     "metadata": {},
     "output_type": "execute_result"
    }
   ],
   "source": [
    "saludo.replace(\"Hola\", \"Chau\")\n"
   ]
  },
  {
   "cell_type": "code",
   "execution_count": 28,
   "metadata": {},
   "outputs": [
    {
     "data": {
      "text/plain": [
       "False"
      ]
     },
     "execution_count": 28,
     "metadata": {},
     "output_type": "execute_result"
    }
   ],
   "source": [
    "\n",
    "saludo.isalpha()"
   ]
  },
  {
   "cell_type": "code",
   "execution_count": 34,
   "metadata": {},
   "outputs": [
    {
     "data": {
      "text/plain": [
       "False"
      ]
     },
     "execution_count": 34,
     "metadata": {},
     "output_type": "execute_result"
    }
   ],
   "source": [
    "saludo.islower()"
   ]
  },
  {
   "cell_type": "code",
   "execution_count": 46,
   "metadata": {},
   "outputs": [
    {
     "data": {
      "text/plain": [
       "['Hola,', 'Mundo']"
      ]
     },
     "execution_count": 46,
     "metadata": {},
     "output_type": "execute_result"
    }
   ],
   "source": [
    "saludo.split()\n",
    "\n"
   ]
  },
  {
   "cell_type": "code",
   "execution_count": 48,
   "metadata": {},
   "outputs": [
    {
     "name": "stdout",
     "output_type": "stream",
     "text": [
      "Hola, Mundo\n"
     ]
    }
   ],
   "source": [
    "print(saludo)"
   ]
  },
  {
   "cell_type": "code",
   "execution_count": 11,
   "metadata": {},
   "outputs": [
    {
     "name": "stdout",
     "output_type": "stream",
     "text": [
      "la rana de felpa\n"
     ]
    },
    {
     "data": {
      "text/plain": [
       "'LA RANA DE FELPA'"
      ]
     },
     "execution_count": 11,
     "metadata": {},
     "output_type": "execute_result"
    }
   ],
   "source": [
    "saludar = \"la rana de felpa\"\n",
    "print(saludar)\n",
    "\n",
    "saludar.islower()\n",
    "saludar.isascii()\n",
    "saludar.upper()\n"
   ]
  },
  {
   "cell_type": "markdown",
   "metadata": {},
   "source": [
    "Metodo Math"
   ]
  },
  {
   "cell_type": "code",
   "execution_count": 2,
   "metadata": {},
   "outputs": [
    {
     "data": {
      "text/plain": [
       "9.0"
      ]
     },
     "execution_count": 2,
     "metadata": {},
     "output_type": "execute_result"
    }
   ],
   "source": [
    "import math\n",
    "\n",
    "math.pow(3, 2)"
   ]
  },
  {
   "cell_type": "code",
   "execution_count": 4,
   "metadata": {},
   "outputs": [
    {
     "data": {
      "text/plain": [
       "11"
      ]
     },
     "execution_count": 4,
     "metadata": {},
     "output_type": "execute_result"
    }
   ],
   "source": [
    "math.ceil(10.5)"
   ]
  },
  {
   "cell_type": "code",
   "execution_count": 3,
   "metadata": {},
   "outputs": [
    {
     "data": {
      "text/plain": [
       "4.47213595499958"
      ]
     },
     "execution_count": 3,
     "metadata": {},
     "output_type": "execute_result"
    }
   ],
   "source": [
    "#devuelve raiz cuadrdada\n",
    "\n",
    "math.sqrt(20)"
   ]
  },
  {
   "cell_type": "code",
   "execution_count": 6,
   "metadata": {},
   "outputs": [
    {
     "name": "stdout",
     "output_type": "stream",
     "text": [
      "Hola, meme, ella es la rana de felpa\n"
     ]
    },
    {
     "data": {
      "text/plain": [
       "['Hola,', 'meme,', 'ella', 'es', 'la', 'rana', 'de', 'felpa']"
      ]
     },
     "execution_count": 6,
     "metadata": {},
     "output_type": "execute_result"
    }
   ],
   "source": [
    "saludar = (\"Hola, meme, ella es la rana de felpa\")\n",
    "\n",
    "print(saludar)\n",
    "saludar.split()"
   ]
  },
  {
   "cell_type": "markdown",
   "metadata": {},
   "source": [
    "append"
   ]
  },
  {
   "cell_type": "code",
   "execution_count": 22,
   "metadata": {},
   "outputs": [
    {
     "name": "stdout",
     "output_type": "stream",
     "text": [
      "[1, 2, 5, 'la rana de felpa', 23]\n",
      "[1, 2, 5, 'la rana de felpa', 23, 'Meme']\n",
      "[1, 2, 5, 'la rana de felpa', 23, 'Meme', [2, 6, 36]]\n"
     ]
    }
   ],
   "source": [
    "milista = [1,2,5, \"la rana de felpa\", 23]\n",
    "print(milista)\n",
    "\n",
    "milista.append(\"Meme\")\n",
    "print(milista)\n",
    "\n",
    "milista.append([2,6,36])\n",
    "print(milista)"
   ]
  },
  {
   "cell_type": "code",
   "execution_count": 14,
   "metadata": {},
   "outputs": [
    {
     "name": "stdout",
     "output_type": "stream",
     "text": [
      "['ingles', 'japones', 'frances']\n",
      "['ingles', 'japones', 'frances', 'chino']\n",
      "['ingles', 'japones', 'frances', 'chino', 'Etrusco']\n",
      "['Etrusco', 'chino', 'frances', 'ingles', 'japones']\n",
      "['Etrusco', 'chino', 'frances', 'ingles']\n"
     ]
    }
   ],
   "source": [
    "lista2 = [\"ingles\", \"japones\", \"frances\"]\n",
    "print(lista2)\n",
    "\n",
    "lista2.append(\"chino\")\n",
    "print(lista2)\n",
    "\n",
    "lista2.append(\"Etrusco\")\n",
    "print(lista2)\n",
    "\n",
    "lista2.sort() #agrega al principio d ela lista\n",
    "print(lista2)\n",
    "\n",
    "lista2.pop()\n",
    "print(lista2)\n"
   ]
  },
  {
   "cell_type": "code",
   "execution_count": 15,
   "metadata": {},
   "outputs": [
    {
     "name": "stdout",
     "output_type": "stream",
     "text": [
      "{'meme ': 'Laura', 'meme2': 'Cecilia'}\n",
      "{'meme ': 'Laura', 'meme2': 'Cecilia', 'Meme3': 'alicia', 'meme4': 'Nacho'}\n",
      "El item eliminado es:  ('meme4', 'Nacho')\n"
     ]
    }
   ],
   "source": [
    "listadict ={\n",
    "    \"meme \": \"Laura\",\n",
    "    \"meme2\": \"Cecilia\"\n",
    "}\n",
    "\n",
    "print(listadict)\n",
    "\n",
    "listadict[\"Meme3\"] = \"alicia\"\n",
    "listadict[\"meme4\"] = \"Nacho\"\n",
    "print(listadict)\n",
    "\n",
    "print(\"El item eliminado es: \", listadict.popitem())\n",
    "\n"
   ]
  }
 ],
 "metadata": {
  "kernelspec": {
   "display_name": "Python 3",
   "language": "python",
   "name": "python3"
  },
  "language_info": {
   "codemirror_mode": {
    "name": "ipython",
    "version": 3
   },
   "file_extension": ".py",
   "mimetype": "text/x-python",
   "name": "python",
   "nbconvert_exporter": "python",
   "pygments_lexer": "ipython3",
   "version": "3.11.3"
  },
  "orig_nbformat": 4
 },
 "nbformat": 4,
 "nbformat_minor": 2
}
