{
 "cells": [
  {
   "cell_type": "code",
   "execution_count": 6,
   "metadata": {},
   "outputs": [
    {
     "data": {
      "text/plain": [
       "800000"
      ]
     },
     "execution_count": 6,
     "metadata": {},
     "output_type": "execute_result"
    }
   ],
   "source": [
    "def max_de_tres(a, b, c):\n",
    "    if a > b and a > c:\n",
    "        return a\n",
    "    if b > a and b > c:\n",
    "        return  b\n",
    "    else:\n",
    "        return c\n",
    "    \n",
    "a = -20\n",
    "b = 800000\n",
    "c = 609\n",
    "\n",
    "max_de_tres(a,b,c)\n",
    "    "
   ]
  },
  {
   "cell_type": "code",
   "execution_count": null,
   "metadata": {},
   "outputs": [],
   "source": [
    "#minimo de 2 numros"
   ]
  },
  {
   "cell_type": "code",
   "execution_count": 10,
   "metadata": {},
   "outputs": [
    {
     "name": "stdout",
     "output_type": "stream",
     "text": [
      "12\n"
     ]
    }
   ],
   "source": [
    "def minimo_de_dos (a, b):\n",
    "\n",
    "    if a < b: \n",
    "        return a\n",
    "    else:\n",
    "        return b\n",
    "\n",
    "a = 12\n",
    "b = 34\n",
    "\n",
    "print(minimo_de_dos(a,b))\n"
   ]
  },
  {
   "cell_type": "code",
   "execution_count": 32,
   "metadata": {},
   "outputs": [
    {
     "ename": "TypeError",
     "evalue": "'list' object is not callable",
     "output_type": "error",
     "traceback": [
      "\u001b[1;31m---------------------------------------------------------------------------\u001b[0m",
      "\u001b[1;31mTypeError\u001b[0m                                 Traceback (most recent call last)",
      "Cell \u001b[1;32mIn[32], line 5\u001b[0m\n\u001b[0;32m      1\u001b[0m \u001b[39m#usar funcin max y min\u001b[39;00m\n\u001b[0;32m      3\u001b[0m numeros \u001b[39m=\u001b[39m [\u001b[39m55\u001b[39m, \u001b[39m4\u001b[39m, \u001b[39m92\u001b[39m, \u001b[39m1\u001b[39m, \u001b[39m104\u001b[39m, \u001b[39m64\u001b[39m, \u001b[39m73\u001b[39m, \u001b[39m99\u001b[39m, \u001b[39m20\u001b[39m]\n\u001b[1;32m----> 5\u001b[0m valor_maximo \u001b[39m=\u001b[39m \u001b[39mmax\u001b[39;49m(numeros)\n\u001b[0;32m      7\u001b[0m \u001b[39mprint\u001b[39m(\u001b[39m'\u001b[39m\u001b[39mEl valor maximo es: \u001b[39m\u001b[39m'\u001b[39m, valor_maximo)\n",
      "\u001b[1;31mTypeError\u001b[0m: 'list' object is not callable"
     ]
    }
   ],
   "source": [
    "#usar funcin max y min\n",
    "\n",
    "numeros = [55, 4, 92, 1, 104, 64, 73, 99, 20]\n",
    "\n",
    "valor_maximo = max(numeros)\n",
    "\n",
    "print('El valor maximo es: ', valor_maximo)"
   ]
  }
 ],
 "metadata": {
  "kernelspec": {
   "display_name": "Python 3",
   "language": "python",
   "name": "python3"
  },
  "language_info": {
   "codemirror_mode": {
    "name": "ipython",
    "version": 3
   },
   "file_extension": ".py",
   "mimetype": "text/x-python",
   "name": "python",
   "nbconvert_exporter": "python",
   "pygments_lexer": "ipython3",
   "version": "3.11.3"
  },
  "orig_nbformat": 4
 },
 "nbformat": 4,
 "nbformat_minor": 2
}
