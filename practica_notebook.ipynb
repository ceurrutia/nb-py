{
 "cells": [
  {
   "cell_type": "code",
   "execution_count": 6,
   "metadata": {},
   "outputs": [
    {
     "name": "stdout",
     "output_type": "stream",
     "text": [
      "25\n"
     ]
    }
   ],
   "source": [
    "variable_numerica:int = 20\n",
    "variable_numerica2:int = variable_numerica + 5\n",
    "print(variable_numerica2)"
   ]
  },
  {
   "cell_type": "code",
   "execution_count": null,
   "metadata": {},
   "outputs": [
    {
     "name": "stdout",
     "output_type": "stream",
     "text": [
      "la edad es 52\n"
     ]
    }
   ],
   "source": [
    "#operadores relacionales\n",
    "\n",
    "año_nacimiento = 1971 #Año en que nacio la persona\n",
    "mes_nacimiento = 9 #Mes en que nacio\n",
    "año_actual = 2023#Año actual\n",
    "mes_actual = 8#Mes actual\n",
    "#Condicion: Si el año actual es 2023 y el mes actual es menor al de nacimiento\n",
    "#entonces imprimimos la edad normal, calculada con una resta (Año actual - Año nacimiento)\n",
    "if año_actual == 2023 and mes_actual < mes_nacimiento:\n",
    "    edad = año_actual - año_nacimiento\n",
    "    print ((\"la edad es\"), (edad))\n",
    "    \n",
    "#Condicion: Si el año actual es 2023 y el mes actual es mayor al de nacimiento\n",
    "#entonces calculamos la edad con una resta normal (Año actual - Año nacimiento)\n",
    "#pero también le agregamos 1 año porque ya habría cumplido otro año mas.\n",
    "if año_actual == 2023 and mes_actual > mes_nacimiento:\n",
    "    edad = año_actual - año_nacimiento\n",
    "    edad += 1\n",
    "    print ((\"la edad es\"), edad, (\"porque nació en mes\"),\n",
    "    mes_nacimiento, (\"y estamos en mes\"), mes_actual)"
   ]
  },
  {
   "cell_type": "code",
   "execution_count": 33,
   "metadata": {},
   "outputs": [
    {
     "name": "stdout",
     "output_type": "stream",
     "text": [
      "La media de 24 y 68 es: 46.0\n",
      "Programa terminado\n"
     ]
    }
   ],
   "source": [
    "def escribe_media(a, b):\n",
    "    media = (a + b) / 2\n",
    "    print(f\"La media de {a} y {b} es: {media}\")\n",
    "    return\n",
    "\n",
    "a = 24\n",
    "b = 68\n",
    "escribe_media(a, b)\n",
    "print(\"Programa terminado\")\n",
    "    "
   ]
  },
  {
   "cell_type": "code",
   "execution_count": 2,
   "metadata": {},
   "outputs": [
    {
     "name": "stdout",
     "output_type": "stream",
     "text": [
      "Cecilia\n",
      "10\n"
     ]
    }
   ],
   "source": [
    "nombre:str = \"Cecilia\"\n",
    "print(nombre)\n",
    "\n",
    "variable:int = 10\n",
    "print(variable)"
   ]
  }
 ],
 "metadata": {
  "kernelspec": {
   "display_name": "Python 3",
   "language": "python",
   "name": "python3"
  },
  "language_info": {
   "codemirror_mode": {
    "name": "ipython",
    "version": 3
   },
   "file_extension": ".py",
   "mimetype": "text/x-python",
   "name": "python",
   "nbconvert_exporter": "python",
   "pygments_lexer": "ipython3",
   "version": "3.11.3"
  },
  "orig_nbformat": 4
 },
 "nbformat": 4,
 "nbformat_minor": 2
}
